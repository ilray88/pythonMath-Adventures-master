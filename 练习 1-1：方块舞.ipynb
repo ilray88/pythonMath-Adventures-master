{
 "cells": [
  {
   "cell_type": "code",
   "execution_count": 79,
   "metadata": {
    "collapsed": true,
    "pycharm": {
     "name": "#%%\n"
    }
   },
   "outputs": [
    {
     "data": {
      "text/plain": "<PIL.EpsImagePlugin.EpsImageFile image mode=RGB size=540x540 at 0x11F0CE932B0>",
      "image/png": "[encoded data removed]"
     },
     "metadata": {},
     "output_type": "display_data"
    }
   ],
   "source": [
    "import turtle\n",
    "#Ex. 1-1\n",
    "\n",
    "from turtle import *\n",
    "\n",
    "for i in range(4):\n",
    "    forward(100)\n",
    "    right(90)\n",
    "ts = turtle.getscreen()\n",
    "ts.getcanvas().postscript(file=r\"circle.eps\")\n",
    "from PIL import Image\n",
    "from IPython.core.display import display\n",
    "display(Image.open('circle.eps'))\n",
    "turtle.exitonclick()\n",
    "\n"
   ]
  },
  {
   "cell_type": "code",
   "execution_count": null,
   "outputs": [],
   "source": [],
   "metadata": {
    "collapsed": false,
    "pycharm": {
     "name": "#%%\n"
    }
   }
  }
 ],
 "metadata": {
  "kernelspec": {
   "name": "pycharm-4aac85bb",
   "language": "python",
   "display_name": "PyCharm (HeiKeGongFang)"
  },
  "language_info": {
   "codemirror_mode": {
    "name": "ipython",
    "version": 2
   },
   "file_extension": ".py",
   "mimetype": "text/x-python",
   "name": "python",
   "nbconvert_exporter": "python",
   "pygments_lexer": "ipython2",
   "version": "2.7.6"
  }
 },
 "nbformat": 4,
 "nbformat_minor": 0
}