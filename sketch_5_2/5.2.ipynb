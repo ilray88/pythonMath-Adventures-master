{
 "cells": [
  {
   "cell_type": "code",
   "execution_count": null,
   "metadata": {
    "collapsed": true
   },
   "outputs": [],
   "source": [
    "\n"
   ]
  },
  {
   "cell_type": "code",
   "execution_count": null,
   "outputs": [],
   "source": [
    "import gifAnimation.*;\n",
    "GifMaker gif;\n",
    "\n",
    "void setup(){\n",
    "def setup():\n",
    "    size(600,600)\n",
    "    rectMode(CENTER)\n",
    "    colorMode(HSB) #for the rainbow colors\n",
    "    strokeWeight(2) #a little thicker line\n",
    "\n",
    "t = 0        //插入你的初始化程序\n",
    "setup_();\n",
    "}\n",
    "\n",
    "void draw(){\n",
    "def draw():\n",
    "    global t\n",
    "    background(255)#white\n",
    "    translate(width/2,height/2)\n",
    "    for i in range(90):\n",
    "        #space the triangles evenly\n",
    "        #around the circle\n",
    "        rotate(radians(360/90))\n",
    "        pushMatrix() #save this orientation\n",
    "        #go to circumference of circle\n",
    "        translate(200,0)\n",
    "        #add color to each triangle\n",
    "        stroke(2*i,255,255)\n",
    "        #spin each triangle\n",
    "        rotate(radians(t+2*i*360/90))\n",
    "        #draw the triangle\n",
    "        tri(100)\n",
    "        #return to saved orientation\n",
    "        popMatrix()\n",
    "    t += 0.5\n",
    "def tri(length):\n",
    "    noFill() #makes the triangle transparent\n",
    "    triangle(0,-length,\n",
    "             -length*sqrt(3)/2, length/2,\n",
    "             length*sqrt(3)/2, length/2)\n",
    "         //插入你的draw代码\n",
    "draw_();\n",
    "}\n",
    "void setup_(){\n",
    "gif = new GifMaker(this,\"gif.gif\");\n",
    "gif.setRepeat(0); //设置Gif重复播放的次数，0为循环播放\n",
    "gif.setDelay(40); //设置帧与帧之间的延迟时间，单位为毫秒。数值为40时，帧率则为 25（1000/40）。\n",
    "}\n",
    "\n",
    "void draw_(){\n",
    "if(frameCount % 1 == 0){ //每间隔多少帧，写入一次（相当于改变播放速率）\n",
    "gif.addFrame(); //将当前帧写入gif内\n",
    "}\n",
    "}\n",
    "void mousePressed(){\n",
    "gif.finish(); //导出Gif\n",
    "}"
   ],
   "metadata": {
    "collapsed": false,
    "pycharm": {
     "name": "#%%\n"
    }
   }
  }
 ],
 "metadata": {
  "kernelspec": {
   "display_name": "Python 3",
   "language": "python",
   "name": "python3"
  },
  "language_info": {
   "codemirror_mode": {
    "name": "ipython",
    "version": 2
   },
   "file_extension": ".py",
   "mimetype": "text/x-python",
   "name": "python",
   "nbconvert_exporter": "python",
   "pygments_lexer": "ipython2",
   "version": "2.7.6"
  }
 },
 "nbformat": 4,
 "nbformat_minor": 0
}