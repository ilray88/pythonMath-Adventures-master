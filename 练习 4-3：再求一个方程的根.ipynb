{
 "cells": [
  {
   "cell_type": "code",
   "execution_count": 2,
   "metadata": {
    "collapsed": true,
    "pycharm": {
     "name": "#%%\n"
    }
   },
   "outputs": [
    {
     "name": "stdout",
     "output_type": "stream",
     "text": [
      "1.5 0.0\n",
      "((1.5+0j), (-5+0j))\n"
     ]
    }
   ],
   "source": [
    "from cmath import sqrt\n",
    "\n",
    "\n",
    "#Ex. 4-3\n",
    "\n",
    "\n",
    "def f(x):\n",
    "    return 2*x**2 + 7*x - 15\n",
    "f(-5)\n",
    "\n",
    "def f(x):\n",
    "    return 2*x**2 + 7*x - 15\n",
    "\n",
    "def average(a,b):\n",
    "    return (a + b)/2.0\n",
    "\n",
    "def guess():\n",
    "    lower = 1\n",
    "    upper = 2\n",
    "    for i in range(20):\n",
    "        midpt = average(lower,upper)\n",
    "        if f(midpt) == 0:\n",
    "            return midpt\n",
    "        elif f(midpt) > 0:\n",
    "            upper = midpt\n",
    "        else:\n",
    "            lower = midpt\n",
    "    return midpt\n",
    "\n",
    "x = guess()\n",
    "print(x,f(x))\n",
    "\n",
    "\n",
    "def quad(a,b,c):\n",
    "    x1 = (-b + sqrt(b**2 - 4*a*c))/(2*a)\n",
    "    x2 = (-b - sqrt(b**2 - 4*a*c))/(2*a)\n",
    "    return x1,x2\n",
    "print(quad(2,7,-15))\n",
    "\n"
   ]
  }
 ],
 "metadata": {
  "kernelspec": {
   "display_name": "Python 3",
   "language": "python",
   "name": "python3"
  },
  "language_info": {
   "codemirror_mode": {
    "name": "ipython",
    "version": 2
   },
   "file_extension": ".py",
   "mimetype": "text/x-python",
   "name": "python",
   "nbconvert_exporter": "python",
   "pygments_lexer": "ipython2",
   "version": "2.7.6"
  }
 },
 "nbformat": 4,
 "nbformat_minor": 0
}