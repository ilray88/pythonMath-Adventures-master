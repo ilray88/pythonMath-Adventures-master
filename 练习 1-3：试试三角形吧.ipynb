{
 "cells": [
  {
   "cell_type": "code",
   "execution_count": 4,
   "metadata": {
    "collapsed": true
   },
   "outputs": [],
   "source": [
    "import turtle\n",
    "from turtle import *\n",
    "\n",
    "#Ex. 1-3\n",
    "\n",
    "def triangle(sidelength):\n",
    "    for i in range(3):\n",
    "        forward(sidelength)\n",
    "        right(120)\n",
    "triangle(100)"
   ]
  },
  {
   "cell_type": "code",
   "execution_count": 5,
   "outputs": [
    {
     "data": {
      "text/plain": "<PIL.EpsImagePlugin.EpsImageFile image mode=RGB size=540x540 at 0x21B69D04EB8>",
      "image/png": "[encoded data removed]"
     },
     "metadata": {},
     "output_type": "display_data"
    }
   ],
   "source": [
    "ts = turtle.getscreen()\n",
    "ts.getcanvas().postscript(file=r\"circle.eps\")\n",
    "from PIL import Image\n",
    "from IPython.core.display import display\n",
    "display(Image.open('circle.eps'))\n",
    "turtle.exitonclick()"
   ],
   "metadata": {
    "collapsed": false,
    "pycharm": {
     "name": "#%%\n"
    }
   }
  }
 ],
 "metadata": {
  "kernelspec": {
   "name": "pycharm-4aac85bb",
   "language": "python",
   "display_name": "PyCharm (HeiKeGongFang)"
  },
  "language_info": {
   "codemirror_mode": {
    "name": "ipython",
    "version": 2
   },
   "file_extension": ".py",
   "mimetype": "text/x-python",
   "name": "python",
   "nbconvert_exporter": "python",
   "pygments_lexer": "ipython2",
   "version": "2.7.6"
  }
 },
 "nbformat": 4,
 "nbformat_minor": 0
}