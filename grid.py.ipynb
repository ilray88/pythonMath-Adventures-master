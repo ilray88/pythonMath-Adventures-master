{
 "cells": [
  {
   "cell_type": "code",
   "execution_count": 1,
   "metadata": {
    "collapsed": true
   },
   "outputs": [],
   "source": [
    "#grid.pyde\n",
    "\n",
    "#set the range of x-values\n",
    "xmin=-10\n",
    "xmax=10\n",
    "\n",
    "#range of y-values\n",
    "ymin = -10\n",
    "ymax = 10\n",
    "\n",
    "#calculate the range\n",
    "rangex = xmax - xmin\n",
    "rangey = ymax - ymin\n",
    "\n",
    "def setup():\n",
    "    global xscl, yscl\n",
    "    size(600,600)\n",
    "    xscl= width / rangex\n",
    "    yscl= -height / rangey\n",
    "\n",
    "def draw():\n",
    "    global xscl, yscl\n",
    "    background(255) #white\n",
    "    translate(width/2,height/2)\n",
    "    grid(xscl, yscl)\n",
    "\n",
    "    noFill()\n",
    "    strokeWeight(1) #thicker line\n",
    "    stroke(0) #black\n",
    "\n",
    "    strokeWeight(2) #thicker line\n",
    "    stroke(255,0,0) #red\n",
    "\n",
    "    #line(0,0,3*xscl,6*yscl)\n",
    "    #fill(255,0,0)\n",
    "    #ellipse(3*xscl,6*yscl,10,10)\n",
    "    graphFunction()\n",
    "\n",
    "\n",
    "\n",
    "\n",
    "def f(x):\n",
    "    return 6*x**3 + 31*x**2 + 3*x - 10\n",
    "\n",
    "def graphFunction():\n",
    "    x = xmin\n",
    "    while x <= xmax:\n",
    "        fill(0)\n",
    "        line(x*xscl,f(x)*yscl,(x+0.1)*xscl,f(x+0.1)*yscl)\n",
    "        x += 0.1\n",
    "\n",
    "def grid(xscl, yscl):\n",
    "    '''Draws a grid for graphing'''\n",
    "    #cyan lines\n",
    "    strokeWeight(1)\n",
    "    stroke(0,255,255)\n",
    "    for i in range(xmin, xmax + 1):\n",
    "        line(i*xscl, ymin*yscl, i*xscl, ymax*yscl)\n",
    "    for i in range(ymin,ymax+1):\n",
    "        line(xmin*xscl, i*yscl, xmax*xscl, i*yscl)\n",
    "    stroke(0) #black axes\n",
    "    line(0,ymin*yscl,0,ymax*yscl)\n",
    "    line(xmin*xscl,0, xmax*xscl,0)"
   ]
  },
  {
   "cell_type": "code",
   "execution_count": 2,
   "outputs": [],
   "source": [
    "def f(x):\n",
    "    return 6*x**3 + 31*x**2 + 3*x - 10"
   ],
   "metadata": {
    "collapsed": false,
    "pycharm": {
     "name": "#%%\n"
    }
   }
  },
  {
   "cell_type": "code",
   "execution_count": null,
   "outputs": [],
   "source": [],
   "metadata": {
    "collapsed": false,
    "pycharm": {
     "name": "#%%\n"
    }
   }
  }
 ],
 "metadata": {
  "kernelspec": {
   "display_name": "Python 3",
   "language": "python",
   "name": "python3"
  },
  "language_info": {
   "codemirror_mode": {
    "name": "ipython",
    "version": 2
   },
   "file_extension": ".py",
   "mimetype": "text/x-python",
   "name": "python",
   "nbconvert_exporter": "python",
   "pygments_lexer": "ipython2",
   "version": "2.7.6"
  }
 },
 "nbformat": 4,
 "nbformat_minor": 0
}