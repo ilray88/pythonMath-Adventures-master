{
 "cells": [
  {
   "cell_type": "code",
   "execution_count": 1,
   "metadata": {
    "collapsed": true
   },
   "outputs": [],
   "source": [
    "import turtle\n",
    "from turtle import *\n",
    "#Ex. 1-4\n",
    "\n",
    "def polygon(sides):\n",
    "    for i in range(sides):\n",
    "        forward(100)\n",
    "        right(360/sides)\n",
    "polygon(5)"
   ]
  },
  {
   "cell_type": "code",
   "execution_count": 2,
   "outputs": [
    {
     "data": {
      "text/plain": "<PIL.EpsImagePlugin.EpsImageFile image mode=RGB size=540x540 at 0x27B4DD32898>",
      "image/png": "[encoded data removed]"
     },
     "metadata": {},
     "output_type": "display_data"
    }
   ],
   "source": [
    "ts = turtle.getscreen()\n",
    "ts.getcanvas().postscript(file=r\"circle.eps\")\n",
    "from PIL import Image\n",
    "from IPython.core.display import display\n",
    "display(Image.open('circle.eps'))\n",
    "turtle.exitonclick()\n"
   ],
   "metadata": {
    "collapsed": false,
    "pycharm": {
     "name": "#%%\n"
    }
   }
  }
 ],
 "metadata": {
  "kernelspec": {
   "name": "pycharm-4aac85bb",
   "language": "python",
   "display_name": "PyCharm (HeiKeGongFang)"
  },
  "language_info": {
   "codemirror_mode": {
    "name": "ipython",
    "version": 2
   },
   "file_extension": ".py",
   "mimetype": "text/x-python",
   "name": "python",
   "nbconvert_exporter": "python",
   "pygments_lexer": "ipython2",
   "version": "2.7.6"
  }
 },
 "nbformat": 4,
 "nbformat_minor": 0
}