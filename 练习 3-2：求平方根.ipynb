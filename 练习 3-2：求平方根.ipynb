{
 "cells": [
  {
   "cell_type": "code",
   "execution_count": 1,
   "metadata": {
    "collapsed": true
   },
   "outputs": [],
   "source": [
    "#\n",
    "def average(a,b):\n",
    "    return (a + b)/2\n",
    "# 3.5计算平方根\n",
    "def squareRoot(num,low,high):\n",
    "    '''Finds the square root of num by\n",
    "    playing the Number Guessing Game\n",
    "    strategy by guessing over the\n",
    "    range from \"low\" to \"high\"'''\n",
    "    for i in range(20):\n",
    "        guess = average(low,high)\n",
    "        if guess**2 == num:\n",
    "            print(guess)\n",
    "        elif guess**2 > num: #\"Guess lower.\"\n",
    "            high = guess\n",
    "        else: #\"Guess higher.\"\n",
    "            low = guess\n",
    "    print(guess)"
   ]
  },
  {
   "cell_type": "code",
   "execution_count": 2,
   "outputs": [
    {
     "data": {
      "text/plain": "34.0"
     },
     "execution_count": 2,
     "metadata": {},
     "output_type": "execute_result"
    }
   ],
   "source": [
    "average(60,8)"
   ],
   "metadata": {
    "collapsed": false,
    "pycharm": {
     "name": "#%%\n"
    }
   }
  },
  {
   "cell_type": "code",
   "execution_count": 3,
   "outputs": [
    {
     "name": "stdout",
     "output_type": "stream",
     "text": [
      "7.745966911315918\n",
      "14.142157554626465\n",
      "31.62278175354004\n",
      "223.6064910888672\n"
     ]
    }
   ],
   "source": [
    "squareRoot(60,7,8)\n",
    "#Ex. 3-2\n",
    "\n",
    "squareRoot(200,1,200) # 14.142157554626465\n",
    "squareRoot(1000,30,40) # 31.62278175354004\n",
    "squareRoot(50000,100,500) # 223.6064910888672"
   ],
   "metadata": {
    "collapsed": false,
    "pycharm": {
     "name": "#%%\n"
    }
   }
  }
 ],
 "metadata": {
  "kernelspec": {
   "display_name": "Python 3",
   "language": "python",
   "name": "python3"
  },
  "language_info": {
   "codemirror_mode": {
    "name": "ipython",
    "version": 2
   },
   "file_extension": ".py",
   "mimetype": "text/x-python",
   "name": "python",
   "nbconvert_exporter": "python",
   "pygments_lexer": "ipython2",
   "version": "2.7.6"
  }
 },
 "nbformat": 4,
 "nbformat_minor": 0
}