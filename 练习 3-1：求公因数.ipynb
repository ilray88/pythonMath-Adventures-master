{
 "cells": [
  {
   "cell_type": "code",
   "execution_count": 1,
   "metadata": {
    "collapsed": true
   },
   "outputs": [
    {
     "name": "stdout",
     "output_type": "stream",
     "text": [
      "6\n"
     ]
    }
   ],
   "source": [
    "#Ex. 3-1\n",
    "\n",
    "def factors(num):\n",
    "    '''returns a list of the factors of num'''\n",
    "    factorList = []\n",
    "    for i in range(1,num+1):\n",
    "        if num % i == 0:\n",
    "            factorList.append(i)\n",
    "    return factorList\n",
    "\n",
    "def gcf(a,b):\n",
    "    '''Returns the Greatest Common Factor of a and b'''\n",
    "    #first put all the factors of a and b in lists:\n",
    "    factors_of_a = factors(a)\n",
    "    factors_of_b = factors(b)\n",
    "    #create a list of \"common factors\"\n",
    "    common_factors = []\n",
    "    #go through all the factors of a\n",
    "    for f in factors_of_a:\n",
    "        #if the factor is also a factor of b\n",
    "        if f in factors_of_b:\n",
    "            #add it to the common factors list\n",
    "            common_factors.append(f)\n",
    "    return max(common_factors) # or common_factors[-1]\n",
    "\n",
    "print(gcf(150,138))"
   ]
  },
  {
   "cell_type": "code",
   "execution_count": 2,
   "outputs": [],
   "source": [
    "\n",
    "\n",
    "\n"
   ],
   "metadata": {
    "collapsed": false,
    "pycharm": {
     "name": "#%%\n"
    }
   }
  }
 ],
 "metadata": {
  "kernelspec": {
   "display_name": "Python 3",
   "language": "python",
   "name": "python3"
  },
  "language_info": {
   "codemirror_mode": {
    "name": "ipython",
    "version": 2
   },
   "file_extension": ".py",
   "mimetype": "text/x-python",
   "name": "python",
   "nbconvert_exporter": "python",
   "pygments_lexer": "ipython2",
   "version": "2.7.6"
  }
 },
 "nbformat": 4,
 "nbformat_minor": 0
}