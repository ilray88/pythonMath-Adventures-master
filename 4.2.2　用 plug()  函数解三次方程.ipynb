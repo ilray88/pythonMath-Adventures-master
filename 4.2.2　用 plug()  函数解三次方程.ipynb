{
 "cells": [
  {
   "cell_type": "code",
   "execution_count": 2,
   "metadata": {
    "collapsed": true
   },
   "outputs": [
    {
     "name": "stdout",
     "output_type": "stream",
     "text": [
      "x= -5\n",
      "done.\n"
     ]
    }
   ],
   "source": [
    "def g(x):\n",
    "    return 6*x**3 + 31*x**2 + 3*x -10\n",
    "def plug():\n",
    "    x = -100\n",
    "    while x < 100:\n",
    "        if g(x) == 0:\n",
    "            print('x=',x)\n",
    "        x +=1\n",
    "    print('done.')\n",
    "plug()"
   ]
  },
  {
   "cell_type": "code",
   "execution_count": null,
   "outputs": [],
   "source": [],
   "metadata": {
    "collapsed": false,
    "pycharm": {
     "name": "#%%\n"
    }
   }
  }
 ],
 "metadata": {
  "kernelspec": {
   "display_name": "Python 3",
   "language": "python",
   "name": "python3"
  },
  "language_info": {
   "codemirror_mode": {
    "name": "ipython",
    "version": 2
   },
   "file_extension": ".py",
   "mimetype": "text/x-python",
   "name": "python",
   "nbconvert_exporter": "python",
   "pygments_lexer": "ipython2",
   "version": "2.7.6"
  }
 },
 "nbformat": 4,
 "nbformat_minor": 0
}